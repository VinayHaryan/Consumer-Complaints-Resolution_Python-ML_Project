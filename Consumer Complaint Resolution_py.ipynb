{
 "cells": [
  {
   "cell_type": "code",
   "execution_count": 1,
   "metadata": {},
   "outputs": [],
   "source": [
    "import pandas as pd\n",
    "import numpy as np\n",
    "import re\n"
   ]
  },
  {
   "cell_type": "code",
   "execution_count": 2,
   "metadata": {},
   "outputs": [],
   "source": [
    "train_cc = pd.read_csv(\"F:\\GIT_HUB_UPLOAd\\_____python_ML_pro\\PROJECT_1\\data_set/Consumer_Complaints_train.csv\")\n",
    "test_cc = pd.read_csv(\"F:\\GIT_HUB_UPLOAd\\_____python_ML_pro\\PROJECT_1\\data_set/Consumer_Complaints_test_share.csv\")"
   ]
  },
  {
   "cell_type": "code",
   "execution_count": 3,
   "metadata": {},
   "outputs": [
    {
     "data": {
      "text/html": [
       "<div>\n",
       "<style scoped>\n",
       "    .dataframe tbody tr th:only-of-type {\n",
       "        vertical-align: middle;\n",
       "    }\n",
       "\n",
       "    .dataframe tbody tr th {\n",
       "        vertical-align: top;\n",
       "    }\n",
       "\n",
       "    .dataframe thead th {\n",
       "        text-align: right;\n",
       "    }\n",
       "</style>\n",
       "<table border=\"1\" class=\"dataframe\">\n",
       "  <thead>\n",
       "    <tr style=\"text-align: right;\">\n",
       "      <th></th>\n",
       "      <th>Date received</th>\n",
       "      <th>Product</th>\n",
       "      <th>Sub-product</th>\n",
       "      <th>Issue</th>\n",
       "      <th>Sub-issue</th>\n",
       "      <th>Consumer complaint narrative</th>\n",
       "      <th>Company public response</th>\n",
       "      <th>Company</th>\n",
       "      <th>State</th>\n",
       "      <th>ZIP code</th>\n",
       "      <th>Tags</th>\n",
       "      <th>Consumer consent provided?</th>\n",
       "      <th>Submitted via</th>\n",
       "      <th>Date sent to company</th>\n",
       "      <th>Company response to consumer</th>\n",
       "      <th>Timely response?</th>\n",
       "      <th>Consumer disputed?</th>\n",
       "      <th>Complaint ID</th>\n",
       "    </tr>\n",
       "  </thead>\n",
       "  <tbody>\n",
       "    <tr>\n",
       "      <td>0</td>\n",
       "      <td>2014-05-15</td>\n",
       "      <td>Credit card</td>\n",
       "      <td>NaN</td>\n",
       "      <td>Billing statement</td>\n",
       "      <td>NaN</td>\n",
       "      <td>NaN</td>\n",
       "      <td>NaN</td>\n",
       "      <td>Wells Fargo &amp; Company</td>\n",
       "      <td>MI</td>\n",
       "      <td>48342</td>\n",
       "      <td>Older American</td>\n",
       "      <td>NaN</td>\n",
       "      <td>Web</td>\n",
       "      <td>2014-05-16</td>\n",
       "      <td>Closed with explanation</td>\n",
       "      <td>Yes</td>\n",
       "      <td>No</td>\n",
       "      <td>856103</td>\n",
       "    </tr>\n",
       "    <tr>\n",
       "      <td>1</td>\n",
       "      <td>2014-09-18</td>\n",
       "      <td>Bank account or service</td>\n",
       "      <td>(CD) Certificate of deposit</td>\n",
       "      <td>Making/receiving payments, sending money</td>\n",
       "      <td>NaN</td>\n",
       "      <td>NaN</td>\n",
       "      <td>NaN</td>\n",
       "      <td>Santander Bank US</td>\n",
       "      <td>PA</td>\n",
       "      <td>18042</td>\n",
       "      <td>NaN</td>\n",
       "      <td>NaN</td>\n",
       "      <td>Referral</td>\n",
       "      <td>2014-09-24</td>\n",
       "      <td>Closed</td>\n",
       "      <td>Yes</td>\n",
       "      <td>No</td>\n",
       "      <td>1034666</td>\n",
       "    </tr>\n",
       "    <tr>\n",
       "      <td>2</td>\n",
       "      <td>2014-03-13</td>\n",
       "      <td>Credit reporting</td>\n",
       "      <td>NaN</td>\n",
       "      <td>Incorrect information on credit report</td>\n",
       "      <td>Account status</td>\n",
       "      <td>NaN</td>\n",
       "      <td>NaN</td>\n",
       "      <td>Equifax</td>\n",
       "      <td>CA</td>\n",
       "      <td>92427</td>\n",
       "      <td>NaN</td>\n",
       "      <td>NaN</td>\n",
       "      <td>Referral</td>\n",
       "      <td>2014-04-03</td>\n",
       "      <td>Closed with non-monetary relief</td>\n",
       "      <td>Yes</td>\n",
       "      <td>No</td>\n",
       "      <td>756363</td>\n",
       "    </tr>\n",
       "    <tr>\n",
       "      <td>3</td>\n",
       "      <td>2015-07-17</td>\n",
       "      <td>Credit card</td>\n",
       "      <td>NaN</td>\n",
       "      <td>Billing statement</td>\n",
       "      <td>NaN</td>\n",
       "      <td>My credit card statement from US Bank, XXXX. X...</td>\n",
       "      <td>Company chooses not to provide a public response</td>\n",
       "      <td>U.S. Bancorp</td>\n",
       "      <td>GA</td>\n",
       "      <td>305XX</td>\n",
       "      <td>Older American</td>\n",
       "      <td>Consent provided</td>\n",
       "      <td>Web</td>\n",
       "      <td>2015-07-17</td>\n",
       "      <td>Closed with monetary relief</td>\n",
       "      <td>Yes</td>\n",
       "      <td>No</td>\n",
       "      <td>1474177</td>\n",
       "    </tr>\n",
       "    <tr>\n",
       "      <td>4</td>\n",
       "      <td>2014-11-20</td>\n",
       "      <td>Credit card</td>\n",
       "      <td>NaN</td>\n",
       "      <td>Transaction issue</td>\n",
       "      <td>NaN</td>\n",
       "      <td>NaN</td>\n",
       "      <td>NaN</td>\n",
       "      <td>Bank of America</td>\n",
       "      <td>MA</td>\n",
       "      <td>02127</td>\n",
       "      <td>NaN</td>\n",
       "      <td>NaN</td>\n",
       "      <td>Web</td>\n",
       "      <td>2014-11-28</td>\n",
       "      <td>Closed with explanation</td>\n",
       "      <td>Yes</td>\n",
       "      <td>No</td>\n",
       "      <td>1132572</td>\n",
       "    </tr>\n",
       "  </tbody>\n",
       "</table>\n",
       "</div>"
      ],
      "text/plain": [
       "  Date received                  Product                  Sub-product  \\\n",
       "0    2014-05-15              Credit card                          NaN   \n",
       "1    2014-09-18  Bank account or service  (CD) Certificate of deposit   \n",
       "2    2014-03-13         Credit reporting                          NaN   \n",
       "3    2015-07-17              Credit card                          NaN   \n",
       "4    2014-11-20              Credit card                          NaN   \n",
       "\n",
       "                                      Issue       Sub-issue  \\\n",
       "0                         Billing statement             NaN   \n",
       "1  Making/receiving payments, sending money             NaN   \n",
       "2    Incorrect information on credit report  Account status   \n",
       "3                         Billing statement             NaN   \n",
       "4                         Transaction issue             NaN   \n",
       "\n",
       "                        Consumer complaint narrative  \\\n",
       "0                                                NaN   \n",
       "1                                                NaN   \n",
       "2                                                NaN   \n",
       "3  My credit card statement from US Bank, XXXX. X...   \n",
       "4                                                NaN   \n",
       "\n",
       "                            Company public response                Company  \\\n",
       "0                                               NaN  Wells Fargo & Company   \n",
       "1                                               NaN      Santander Bank US   \n",
       "2                                               NaN                Equifax   \n",
       "3  Company chooses not to provide a public response           U.S. Bancorp   \n",
       "4                                               NaN        Bank of America   \n",
       "\n",
       "  State ZIP code            Tags Consumer consent provided? Submitted via  \\\n",
       "0    MI    48342  Older American                        NaN           Web   \n",
       "1    PA    18042             NaN                        NaN      Referral   \n",
       "2    CA    92427             NaN                        NaN      Referral   \n",
       "3    GA    305XX  Older American           Consent provided           Web   \n",
       "4    MA    02127             NaN                        NaN           Web   \n",
       "\n",
       "  Date sent to company     Company response to consumer Timely response?  \\\n",
       "0           2014-05-16          Closed with explanation              Yes   \n",
       "1           2014-09-24                           Closed              Yes   \n",
       "2           2014-04-03  Closed with non-monetary relief              Yes   \n",
       "3           2015-07-17      Closed with monetary relief              Yes   \n",
       "4           2014-11-28          Closed with explanation              Yes   \n",
       "\n",
       "  Consumer disputed?  Complaint ID  \n",
       "0                 No        856103  \n",
       "1                 No       1034666  \n",
       "2                 No        756363  \n",
       "3                 No       1474177  \n",
       "4                 No       1132572  "
      ]
     },
     "execution_count": 3,
     "metadata": {},
     "output_type": "execute_result"
    }
   ],
   "source": [
    "train_cc.head()"
   ]
  },
  {
   "cell_type": "code",
   "execution_count": 4,
   "metadata": {},
   "outputs": [
    {
     "data": {
      "text/plain": [
       "((478421, 18), (119606, 17))"
      ]
     },
     "execution_count": 4,
     "metadata": {},
     "output_type": "execute_result"
    }
   ],
   "source": [
    "train_cc.shape,test_cc.shape"
   ]
  },
  {
   "cell_type": "code",
   "execution_count": 5,
   "metadata": {},
   "outputs": [],
   "source": [
    "train_cc['data'] = 'train'\n",
    "test_cc['data'] = 'test'\n",
    "test_cc['Consumer disputed?'] = np.nan\n",
    "\n"
   ]
  },
  {
   "cell_type": "code",
   "execution_count": 6,
   "metadata": {},
   "outputs": [
    {
     "name": "stderr",
     "output_type": "stream",
     "text": [
      "C:\\Users\\user\\Anaconda3\\lib\\site-packages\\ipykernel_launcher.py:1: FutureWarning: Sorting because non-concatenation axis is not aligned. A future version\n",
      "of pandas will change to not sort by default.\n",
      "\n",
      "To accept the future behavior, pass 'sort=False'.\n",
      "\n",
      "To retain the current behavior and silence the warning, pass 'sort=True'.\n",
      "\n",
      "  \"\"\"Entry point for launching an IPython kernel.\n"
     ]
    }
   ],
   "source": [
    "cc_all = pd.concat([train_cc, test_cc], axis=0)\n"
   ]
  },
  {
   "cell_type": "code",
   "execution_count": 7,
   "metadata": {},
   "outputs": [
    {
     "data": {
      "text/html": [
       "<div>\n",
       "<style scoped>\n",
       "    .dataframe tbody tr th:only-of-type {\n",
       "        vertical-align: middle;\n",
       "    }\n",
       "\n",
       "    .dataframe tbody tr th {\n",
       "        vertical-align: top;\n",
       "    }\n",
       "\n",
       "    .dataframe thead th {\n",
       "        text-align: right;\n",
       "    }\n",
       "</style>\n",
       "<table border=\"1\" class=\"dataframe\">\n",
       "  <thead>\n",
       "    <tr style=\"text-align: right;\">\n",
       "      <th></th>\n",
       "      <th>Company</th>\n",
       "      <th>Company public response</th>\n",
       "      <th>Company response to consumer</th>\n",
       "      <th>Complaint ID</th>\n",
       "      <th>Consumer complaint narrative</th>\n",
       "      <th>Consumer consent provided?</th>\n",
       "      <th>Consumer disputed?</th>\n",
       "      <th>Date received</th>\n",
       "      <th>Date sent to company</th>\n",
       "      <th>Issue</th>\n",
       "      <th>Product</th>\n",
       "      <th>State</th>\n",
       "      <th>Sub-issue</th>\n",
       "      <th>Sub-product</th>\n",
       "      <th>Submitted via</th>\n",
       "      <th>Tags</th>\n",
       "      <th>Timely response?</th>\n",
       "      <th>ZIP code</th>\n",
       "      <th>data</th>\n",
       "    </tr>\n",
       "  </thead>\n",
       "  <tbody>\n",
       "    <tr>\n",
       "      <td>0</td>\n",
       "      <td>Wells Fargo &amp; Company</td>\n",
       "      <td>NaN</td>\n",
       "      <td>Closed with explanation</td>\n",
       "      <td>856103</td>\n",
       "      <td>NaN</td>\n",
       "      <td>NaN</td>\n",
       "      <td>No</td>\n",
       "      <td>2014-05-15</td>\n",
       "      <td>2014-05-16</td>\n",
       "      <td>Billing statement</td>\n",
       "      <td>Credit card</td>\n",
       "      <td>MI</td>\n",
       "      <td>NaN</td>\n",
       "      <td>NaN</td>\n",
       "      <td>Web</td>\n",
       "      <td>Older American</td>\n",
       "      <td>Yes</td>\n",
       "      <td>48342</td>\n",
       "      <td>train</td>\n",
       "    </tr>\n",
       "    <tr>\n",
       "      <td>1</td>\n",
       "      <td>Santander Bank US</td>\n",
       "      <td>NaN</td>\n",
       "      <td>Closed</td>\n",
       "      <td>1034666</td>\n",
       "      <td>NaN</td>\n",
       "      <td>NaN</td>\n",
       "      <td>No</td>\n",
       "      <td>2014-09-18</td>\n",
       "      <td>2014-09-24</td>\n",
       "      <td>Making/receiving payments, sending money</td>\n",
       "      <td>Bank account or service</td>\n",
       "      <td>PA</td>\n",
       "      <td>NaN</td>\n",
       "      <td>(CD) Certificate of deposit</td>\n",
       "      <td>Referral</td>\n",
       "      <td>NaN</td>\n",
       "      <td>Yes</td>\n",
       "      <td>18042</td>\n",
       "      <td>train</td>\n",
       "    </tr>\n",
       "    <tr>\n",
       "      <td>2</td>\n",
       "      <td>Equifax</td>\n",
       "      <td>NaN</td>\n",
       "      <td>Closed with non-monetary relief</td>\n",
       "      <td>756363</td>\n",
       "      <td>NaN</td>\n",
       "      <td>NaN</td>\n",
       "      <td>No</td>\n",
       "      <td>2014-03-13</td>\n",
       "      <td>2014-04-03</td>\n",
       "      <td>Incorrect information on credit report</td>\n",
       "      <td>Credit reporting</td>\n",
       "      <td>CA</td>\n",
       "      <td>Account status</td>\n",
       "      <td>NaN</td>\n",
       "      <td>Referral</td>\n",
       "      <td>NaN</td>\n",
       "      <td>Yes</td>\n",
       "      <td>92427</td>\n",
       "      <td>train</td>\n",
       "    </tr>\n",
       "    <tr>\n",
       "      <td>3</td>\n",
       "      <td>U.S. Bancorp</td>\n",
       "      <td>Company chooses not to provide a public response</td>\n",
       "      <td>Closed with monetary relief</td>\n",
       "      <td>1474177</td>\n",
       "      <td>My credit card statement from US Bank, XXXX. X...</td>\n",
       "      <td>Consent provided</td>\n",
       "      <td>No</td>\n",
       "      <td>2015-07-17</td>\n",
       "      <td>2015-07-17</td>\n",
       "      <td>Billing statement</td>\n",
       "      <td>Credit card</td>\n",
       "      <td>GA</td>\n",
       "      <td>NaN</td>\n",
       "      <td>NaN</td>\n",
       "      <td>Web</td>\n",
       "      <td>Older American</td>\n",
       "      <td>Yes</td>\n",
       "      <td>305XX</td>\n",
       "      <td>train</td>\n",
       "    </tr>\n",
       "    <tr>\n",
       "      <td>4</td>\n",
       "      <td>Bank of America</td>\n",
       "      <td>NaN</td>\n",
       "      <td>Closed with explanation</td>\n",
       "      <td>1132572</td>\n",
       "      <td>NaN</td>\n",
       "      <td>NaN</td>\n",
       "      <td>No</td>\n",
       "      <td>2014-11-20</td>\n",
       "      <td>2014-11-28</td>\n",
       "      <td>Transaction issue</td>\n",
       "      <td>Credit card</td>\n",
       "      <td>MA</td>\n",
       "      <td>NaN</td>\n",
       "      <td>NaN</td>\n",
       "      <td>Web</td>\n",
       "      <td>NaN</td>\n",
       "      <td>Yes</td>\n",
       "      <td>02127</td>\n",
       "      <td>train</td>\n",
       "    </tr>\n",
       "  </tbody>\n",
       "</table>\n",
       "</div>"
      ],
      "text/plain": [
       "                 Company                           Company public response  \\\n",
       "0  Wells Fargo & Company                                               NaN   \n",
       "1      Santander Bank US                                               NaN   \n",
       "2                Equifax                                               NaN   \n",
       "3           U.S. Bancorp  Company chooses not to provide a public response   \n",
       "4        Bank of America                                               NaN   \n",
       "\n",
       "      Company response to consumer  Complaint ID  \\\n",
       "0          Closed with explanation        856103   \n",
       "1                           Closed       1034666   \n",
       "2  Closed with non-monetary relief        756363   \n",
       "3      Closed with monetary relief       1474177   \n",
       "4          Closed with explanation       1132572   \n",
       "\n",
       "                        Consumer complaint narrative  \\\n",
       "0                                                NaN   \n",
       "1                                                NaN   \n",
       "2                                                NaN   \n",
       "3  My credit card statement from US Bank, XXXX. X...   \n",
       "4                                                NaN   \n",
       "\n",
       "  Consumer consent provided? Consumer disputed? Date received  \\\n",
       "0                        NaN                 No    2014-05-15   \n",
       "1                        NaN                 No    2014-09-18   \n",
       "2                        NaN                 No    2014-03-13   \n",
       "3           Consent provided                 No    2015-07-17   \n",
       "4                        NaN                 No    2014-11-20   \n",
       "\n",
       "  Date sent to company                                     Issue  \\\n",
       "0           2014-05-16                         Billing statement   \n",
       "1           2014-09-24  Making/receiving payments, sending money   \n",
       "2           2014-04-03    Incorrect information on credit report   \n",
       "3           2015-07-17                         Billing statement   \n",
       "4           2014-11-28                         Transaction issue   \n",
       "\n",
       "                   Product State       Sub-issue                  Sub-product  \\\n",
       "0              Credit card    MI             NaN                          NaN   \n",
       "1  Bank account or service    PA             NaN  (CD) Certificate of deposit   \n",
       "2         Credit reporting    CA  Account status                          NaN   \n",
       "3              Credit card    GA             NaN                          NaN   \n",
       "4              Credit card    MA             NaN                          NaN   \n",
       "\n",
       "  Submitted via            Tags Timely response? ZIP code   data  \n",
       "0           Web  Older American              Yes    48342  train  \n",
       "1      Referral             NaN              Yes    18042  train  \n",
       "2      Referral             NaN              Yes    92427  train  \n",
       "3           Web  Older American              Yes    305XX  train  \n",
       "4           Web             NaN              Yes    02127  train  "
      ]
     },
     "execution_count": 7,
     "metadata": {},
     "output_type": "execute_result"
    }
   ],
   "source": [
    "cc_all.head()"
   ]
  },
  {
   "cell_type": "code",
   "execution_count": 8,
   "metadata": {},
   "outputs": [
    {
     "data": {
      "text/plain": [
       "[('Company', dtype('O'), 3437),\n",
       " ('Company public response', dtype('O'), 10),\n",
       " ('Company response to consumer', dtype('O'), 7),\n",
       " ('Complaint ID', dtype('int64'), 598027),\n",
       " ('Consumer complaint narrative', dtype('O'), 92118),\n",
       " ('Consumer consent provided?', dtype('O'), 4),\n",
       " ('Consumer disputed?', dtype('O'), 2),\n",
       " ('Date received', dtype('O'), 1759),\n",
       " ('Date sent to company', dtype('O'), 1708),\n",
       " ('Issue', dtype('O'), 95),\n",
       " ('Product', dtype('O'), 12),\n",
       " ('State', dtype('O'), 62),\n",
       " ('Sub-issue', dtype('O'), 68),\n",
       " ('Sub-product', dtype('O'), 47),\n",
       " ('Submitted via', dtype('O'), 6),\n",
       " ('Tags', dtype('O'), 3),\n",
       " ('Timely response?', dtype('O'), 2),\n",
       " ('ZIP code', dtype('O'), 27342),\n",
       " ('data', dtype('O'), 2)]"
      ]
     },
     "execution_count": 8,
     "metadata": {},
     "output_type": "execute_result"
    }
   ],
   "source": [
    "list(zip(cc_all.columns,cc_all.dtypes,cc_all.nunique()))"
   ]
  },
  {
   "cell_type": "code",
   "execution_count": 9,
   "metadata": {},
   "outputs": [],
   "source": [
    "garbage_cols=cc_all.isnull().sum()[cc_all.isnull().sum()>(0.5*cc_all.shape[0])].keys() "
   ]
  },
  {
   "cell_type": "code",
   "execution_count": 10,
   "metadata": {},
   "outputs": [],
   "source": [
    "cc_all.drop(columns=garbage_cols,axis=1,inplace=True)"
   ]
  },
  {
   "cell_type": "code",
   "execution_count": 11,
   "metadata": {},
   "outputs": [],
   "source": [
    "cc_all.drop(columns=[\"Complaint ID\"],inplace=True)"
   ]
  },
  {
   "cell_type": "code",
   "execution_count": 12,
   "metadata": {},
   "outputs": [],
   "source": [
    "cc_all[\"Sub-product\"]=np.where(cc_all[\"Sub-product\"].isnull(),\"not_available\",cc_all[\"Sub-product\"])"
   ]
  },
  {
   "cell_type": "code",
   "execution_count": 13,
   "metadata": {},
   "outputs": [],
   "source": [
    "cc_all[\"State\"]=np.where(cc_all[\"State\"].isnull(),\"not_available\",cc_all[\"State\"])"
   ]
  },
  {
   "cell_type": "code",
   "execution_count": 14,
   "metadata": {},
   "outputs": [],
   "source": [
    "cc_all[\"ZIP code\"]=np.where(cc_all[\"ZIP code\"].isnull(),\"not_available\",cc_all[\"ZIP code\"])"
   ]
  },
  {
   "cell_type": "code",
   "execution_count": 15,
   "metadata": {},
   "outputs": [],
   "source": [
    "cc_all[\"Submitted via\"]=np.where(cc_all[\"Submitted via\"].isnull(),cc_all[\"Submitted via\"].mode()[0],cc_all[\"Submitted via\"])"
   ]
  },
  {
   "cell_type": "code",
   "execution_count": 16,
   "metadata": {},
   "outputs": [],
   "source": [
    "import datetime\n",
    "from datetime import date"
   ]
  },
  {
   "cell_type": "code",
   "execution_count": 17,
   "metadata": {},
   "outputs": [],
   "source": [
    "d=pd.to_datetime(cc_all[\"Date received\"])\n",
    "dd=pd.to_datetime(cc_all[\"Date sent to company\"])\n",
    "cc_all[\"resolution_gap_days\"]=(dd-d)/np.timedelta64(1,'D')\n",
    "cc_all.drop(columns =[\"Date received\",\"Date sent to company\"], inplace = True)"
   ]
  },
  {
   "cell_type": "code",
   "execution_count": 18,
   "metadata": {},
   "outputs": [],
   "source": [
    "def dummies(data,var,freq_cutoff=0):\n",
    "    t=data[var].value_counts(normalize=True)  #get value counts of all the unique data in specified feature variable \n",
    "    t=t[t.values>freq_cutoff] #filter the values having count less than specified cutoff\n",
    "    t=t.sort_values() #sort according to the value counts\n",
    "    t_min=t.idxmin() # get the data having minimum count \n",
    "    t=t.drop([t_min]) # drop that data as we make n-1 dummies \n",
    "    categories=t.index # making dummies for rest unique data values\n",
    "\n",
    "    for cat in categories :\n",
    "        name=var+'_'+cat\n",
    "        name=re.sub(\" \",\"\",name) \n",
    "        name=re.sub(\"-\",\"_\",name)\n",
    "        name=re.sub(\"\\\\?\",\"Q\",name) \n",
    "        name=re.sub(\"<\",\"LT_\",name) \n",
    "        name=re.sub(\"\\\\+\",\"\",name) \n",
    "        name=re.sub(\"\\\\/\",\"_\",name) \n",
    "        name=re.sub(\">\",\"GT_\",name) \n",
    "        name=re.sub(\"=\",\"EQ_\",name)\n",
    "        name=re.sub(\",\",\"\",name)\n",
    "        data[name]=(data[var]==cat)+0 \n",
    "               \n",
    "    data=data.drop(columns=[var]) #dropping original feature variable after making its dummies\n",
    "    return data"
   ]
  },
  {
   "cell_type": "code",
   "execution_count": 19,
   "metadata": {},
   "outputs": [],
   "source": [
    "\n",
    "cc_all=dummies(cc_all,\"Company\",0.02)\n",
    "cc_all=dummies(cc_all,\"State\",0.04)\n",
    "cc_all=dummies(cc_all,\"ZIP code\",0.002)\n",
    "cc_all=dummies(cc_all,\"Submitted via\",0.05)\n",
    "cc_all=dummies(cc_all,\"Company response to consumer\",0.05)\n",
    "cc_all=dummies(cc_all,\"Timely response?\")\n",
    "cc_all=dummies(cc_all,\"Product\",0.03)\n",
    "cc_all=dummies(cc_all,\"Sub-product\",0.05)\n",
    "cc_all=dummies(cc_all,\"Issue\",0.02)\n"
   ]
  },
  {
   "cell_type": "code",
   "execution_count": 21,
   "metadata": {},
   "outputs": [
    {
     "name": "stderr",
     "output_type": "stream",
     "text": [
      "C:\\Users\\user\\Anaconda3\\lib\\site-packages\\pandas\\core\\frame.py:4102: SettingWithCopyWarning: \n",
      "A value is trying to be set on a copy of a slice from a DataFrame\n",
      "\n",
      "See the caveats in the documentation: http://pandas.pydata.org/pandas-docs/stable/user_guide/indexing.html#returning-a-view-versus-a-copy\n",
      "  errors=errors,\n"
     ]
    }
   ],
   "source": [
    "cc_train=cc_all[cc_all['data']=='train'] \n",
    "del cc_train['data'] \n",
    "cc_test=cc_all[cc_all['data']=='test']\n",
    "cc_test.drop(['Consumer disputed?','data'],axis=1,inplace=True) "
   ]
  },
  {
   "cell_type": "code",
   "execution_count": 39,
   "metadata": {},
   "outputs": [],
   "source": [
    "from sklearn.model_selection import train_test_split\n",
    "from sklearn.ensemble import RandomForestClassifier\n",
    "from sklearn.model_selection import RandomizedSearchCV\n",
    "from sklearn.metrics import roc_auc_score"
   ]
  },
  {
   "cell_type": "code",
   "execution_count": 24,
   "metadata": {},
   "outputs": [],
   "source": [
    "train1, train2 = train_test_split(cc_train, test_size = 0.2,random_state=2)\n",
    "\n",
    "x_train1=train1.drop([\"Consumer disputed?\"],1)\n",
    "y_train1=train1[\"Consumer disputed?\"]\n",
    "\n",
    "x_train2=train2.drop([\"Consumer disputed?\"],1)\n",
    "y_train2=train2[\"Consumer disputed?\"]\n",
    "\n",
    "x_train1.reset_index(drop=True,inplace=True)\n",
    "y_train1.reset_index(drop=True,inplace=True)"
   ]
  },
  {
   "cell_type": "code",
   "execution_count": 28,
   "metadata": {},
   "outputs": [],
   "source": [
    "params={'n_estimators':[100,200,500,700],\n",
    "       'criterion':['gini','entropy'],\n",
    "       'min_samples_split':[5,7,9],\n",
    "       'bootstrap':[True],\n",
    "        'n_jobs':[-1],\n",
    "       'max_depth':[5,10,20],\n",
    "       'max_features':[5,10,20,30,40], \n",
    "       'min_samples_leaf':[6,8,10]}\n",
    "\n",
    "## TIME THIS MAX 5 HRS  & ALSO DEPEND YOUR SYSTEM\n",
    "\n",
    "\n",
    "#________________________________________________________________\n",
    "\n",
    "\n",
    "#param_dist = {\"n_estimators\":[100,200,300,500,700,1000],\n",
    "#\"max_features\": [5,10,20,25,30,35],\n",
    "#\"bootstrap\": [True, False],\n",
    "#\"class_weight\":[None,'balanced'],\n",
    "#\"criterion\":['entropy','gini'],\n",
    "#\"max_depth\":[None,5,10,15,20,30,50,70],\n",
    "#\"min_samples_leaf\":[1,2,5,10,15,20],\n",
    "#\"min_samples_split\":[2,5,10,15,20]}\n",
    "\n",
    "\n",
    "## APPALY THIS PARA AUC WILL INCREASE 0.60 OR MORE BUT TAKE MORE TIME MAX 12 HRS\n"
   ]
  },
  {
   "cell_type": "code",
   "execution_count": 25,
   "metadata": {},
   "outputs": [
    {
     "data": {
      "text/plain": [
       "1080"
      ]
     },
     "execution_count": 25,
     "metadata": {},
     "output_type": "execute_result"
    }
   ],
   "source": [
    "4*2*3*3*5*3"
   ]
  },
  {
   "cell_type": "code",
   "execution_count": 26,
   "metadata": {},
   "outputs": [],
   "source": [
    "clf = RandomForestClassifier(class_weight='balanced')"
   ]
  },
  {
   "cell_type": "code",
   "execution_count": 29,
   "metadata": {},
   "outputs": [],
   "source": [
    "random_search = RandomizedSearchCV(clf, param_distributions=params,\n",
    "                                   n_iter=10,verbose=20)"
   ]
  },
  {
   "cell_type": "code",
   "execution_count": 30,
   "metadata": {
    "scrolled": true
   },
   "outputs": [
    {
     "name": "stdout",
     "output_type": "stream",
     "text": [
      "Fitting 5 folds for each of 10 candidates, totalling 50 fits\n"
     ]
    },
    {
     "name": "stderr",
     "output_type": "stream",
     "text": [
      "[Parallel(n_jobs=1)]: Using backend SequentialBackend with 1 concurrent workers.\n"
     ]
    },
    {
     "name": "stdout",
     "output_type": "stream",
     "text": [
      "[CV] n_jobs=-1, n_estimators=500, min_samples_split=9, min_samples_leaf=10, max_features=40, max_depth=20, criterion=entropy, bootstrap=True \n",
      "[CV]  n_jobs=-1, n_estimators=500, min_samples_split=9, min_samples_leaf=10, max_features=40, max_depth=20, criterion=entropy, bootstrap=True, score=0.550, total= 7.4min\n",
      "[CV] n_jobs=-1, n_estimators=500, min_samples_split=9, min_samples_leaf=10, max_features=40, max_depth=20, criterion=entropy, bootstrap=True \n"
     ]
    },
    {
     "name": "stderr",
     "output_type": "stream",
     "text": [
      "[Parallel(n_jobs=1)]: Done   1 out of   1 | elapsed:  7.4min remaining:    0.0s\n"
     ]
    },
    {
     "name": "stdout",
     "output_type": "stream",
     "text": [
      "[CV]  n_jobs=-1, n_estimators=500, min_samples_split=9, min_samples_leaf=10, max_features=40, max_depth=20, criterion=entropy, bootstrap=True, score=0.548, total= 7.1min\n",
      "[CV] n_jobs=-1, n_estimators=500, min_samples_split=9, min_samples_leaf=10, max_features=40, max_depth=20, criterion=entropy, bootstrap=True \n"
     ]
    },
    {
     "name": "stderr",
     "output_type": "stream",
     "text": [
      "[Parallel(n_jobs=1)]: Done   2 out of   2 | elapsed: 14.6min remaining:    0.0s\n"
     ]
    },
    {
     "name": "stdout",
     "output_type": "stream",
     "text": [
      "[CV]  n_jobs=-1, n_estimators=500, min_samples_split=9, min_samples_leaf=10, max_features=40, max_depth=20, criterion=entropy, bootstrap=True, score=0.553, total= 7.3min\n",
      "[CV] n_jobs=-1, n_estimators=500, min_samples_split=9, min_samples_leaf=10, max_features=40, max_depth=20, criterion=entropy, bootstrap=True \n"
     ]
    },
    {
     "name": "stderr",
     "output_type": "stream",
     "text": [
      "[Parallel(n_jobs=1)]: Done   3 out of   3 | elapsed: 21.9min remaining:    0.0s\n"
     ]
    },
    {
     "name": "stdout",
     "output_type": "stream",
     "text": [
      "[CV]  n_jobs=-1, n_estimators=500, min_samples_split=9, min_samples_leaf=10, max_features=40, max_depth=20, criterion=entropy, bootstrap=True, score=0.553, total= 7.1min\n",
      "[CV] n_jobs=-1, n_estimators=500, min_samples_split=9, min_samples_leaf=10, max_features=40, max_depth=20, criterion=entropy, bootstrap=True \n"
     ]
    },
    {
     "name": "stderr",
     "output_type": "stream",
     "text": [
      "[Parallel(n_jobs=1)]: Done   4 out of   4 | elapsed: 29.0min remaining:    0.0s\n"
     ]
    },
    {
     "name": "stdout",
     "output_type": "stream",
     "text": [
      "[CV]  n_jobs=-1, n_estimators=500, min_samples_split=9, min_samples_leaf=10, max_features=40, max_depth=20, criterion=entropy, bootstrap=True, score=0.557, total= 7.2min\n",
      "[CV] n_jobs=-1, n_estimators=700, min_samples_split=7, min_samples_leaf=8, max_features=30, max_depth=20, criterion=entropy, bootstrap=True \n"
     ]
    },
    {
     "name": "stderr",
     "output_type": "stream",
     "text": [
      "[Parallel(n_jobs=1)]: Done   5 out of   5 | elapsed: 36.2min remaining:    0.0s\n"
     ]
    },
    {
     "name": "stdout",
     "output_type": "stream",
     "text": [
      "[CV]  n_jobs=-1, n_estimators=700, min_samples_split=7, min_samples_leaf=8, max_features=30, max_depth=20, criterion=entropy, bootstrap=True, score=0.551, total= 7.8min\n",
      "[CV] n_jobs=-1, n_estimators=700, min_samples_split=7, min_samples_leaf=8, max_features=30, max_depth=20, criterion=entropy, bootstrap=True \n"
     ]
    },
    {
     "name": "stderr",
     "output_type": "stream",
     "text": [
      "[Parallel(n_jobs=1)]: Done   6 out of   6 | elapsed: 44.0min remaining:    0.0s\n"
     ]
    },
    {
     "name": "stdout",
     "output_type": "stream",
     "text": [
      "[CV]  n_jobs=-1, n_estimators=700, min_samples_split=7, min_samples_leaf=8, max_features=30, max_depth=20, criterion=entropy, bootstrap=True, score=0.549, total= 7.8min\n",
      "[CV] n_jobs=-1, n_estimators=700, min_samples_split=7, min_samples_leaf=8, max_features=30, max_depth=20, criterion=entropy, bootstrap=True \n"
     ]
    },
    {
     "name": "stderr",
     "output_type": "stream",
     "text": [
      "[Parallel(n_jobs=1)]: Done   7 out of   7 | elapsed: 51.8min remaining:    0.0s\n"
     ]
    },
    {
     "name": "stdout",
     "output_type": "stream",
     "text": [
      "[CV]  n_jobs=-1, n_estimators=700, min_samples_split=7, min_samples_leaf=8, max_features=30, max_depth=20, criterion=entropy, bootstrap=True, score=0.553, total= 8.1min\n",
      "[CV] n_jobs=-1, n_estimators=700, min_samples_split=7, min_samples_leaf=8, max_features=30, max_depth=20, criterion=entropy, bootstrap=True \n"
     ]
    },
    {
     "name": "stderr",
     "output_type": "stream",
     "text": [
      "[Parallel(n_jobs=1)]: Done   8 out of   8 | elapsed: 59.9min remaining:    0.0s\n"
     ]
    },
    {
     "name": "stdout",
     "output_type": "stream",
     "text": [
      "[CV]  n_jobs=-1, n_estimators=700, min_samples_split=7, min_samples_leaf=8, max_features=30, max_depth=20, criterion=entropy, bootstrap=True, score=0.552, total= 7.9min\n",
      "[CV] n_jobs=-1, n_estimators=700, min_samples_split=7, min_samples_leaf=8, max_features=30, max_depth=20, criterion=entropy, bootstrap=True \n"
     ]
    },
    {
     "name": "stderr",
     "output_type": "stream",
     "text": [
      "[Parallel(n_jobs=1)]: Done   9 out of   9 | elapsed: 67.8min remaining:    0.0s\n"
     ]
    },
    {
     "name": "stdout",
     "output_type": "stream",
     "text": [
      "[CV]  n_jobs=-1, n_estimators=700, min_samples_split=7, min_samples_leaf=8, max_features=30, max_depth=20, criterion=entropy, bootstrap=True, score=0.559, total= 8.0min\n",
      "[CV] n_jobs=-1, n_estimators=700, min_samples_split=5, min_samples_leaf=10, max_features=40, max_depth=20, criterion=gini, bootstrap=True \n"
     ]
    },
    {
     "name": "stderr",
     "output_type": "stream",
     "text": [
      "[Parallel(n_jobs=1)]: Done  10 out of  10 | elapsed: 75.8min remaining:    0.0s\n"
     ]
    },
    {
     "name": "stdout",
     "output_type": "stream",
     "text": [
      "[CV]  n_jobs=-1, n_estimators=700, min_samples_split=5, min_samples_leaf=10, max_features=40, max_depth=20, criterion=gini, bootstrap=True, score=0.550, total=10.0min\n",
      "[CV] n_jobs=-1, n_estimators=700, min_samples_split=5, min_samples_leaf=10, max_features=40, max_depth=20, criterion=gini, bootstrap=True \n"
     ]
    },
    {
     "name": "stderr",
     "output_type": "stream",
     "text": [
      "[Parallel(n_jobs=1)]: Done  11 out of  11 | elapsed: 85.8min remaining:    0.0s\n"
     ]
    },
    {
     "name": "stdout",
     "output_type": "stream",
     "text": [
      "[CV]  n_jobs=-1, n_estimators=700, min_samples_split=5, min_samples_leaf=10, max_features=40, max_depth=20, criterion=gini, bootstrap=True, score=0.549, total=11.1min\n",
      "[CV] n_jobs=-1, n_estimators=700, min_samples_split=5, min_samples_leaf=10, max_features=40, max_depth=20, criterion=gini, bootstrap=True \n"
     ]
    },
    {
     "name": "stderr",
     "output_type": "stream",
     "text": [
      "[Parallel(n_jobs=1)]: Done  12 out of  12 | elapsed: 97.0min remaining:    0.0s\n"
     ]
    },
    {
     "name": "stdout",
     "output_type": "stream",
     "text": [
      "[CV]  n_jobs=-1, n_estimators=700, min_samples_split=5, min_samples_leaf=10, max_features=40, max_depth=20, criterion=gini, bootstrap=True, score=0.553, total=12.2min\n",
      "[CV] n_jobs=-1, n_estimators=700, min_samples_split=5, min_samples_leaf=10, max_features=40, max_depth=20, criterion=gini, bootstrap=True \n"
     ]
    },
    {
     "name": "stderr",
     "output_type": "stream",
     "text": [
      "[Parallel(n_jobs=1)]: Done  13 out of  13 | elapsed: 109.2min remaining:    0.0s\n"
     ]
    },
    {
     "name": "stdout",
     "output_type": "stream",
     "text": [
      "[CV]  n_jobs=-1, n_estimators=700, min_samples_split=5, min_samples_leaf=10, max_features=40, max_depth=20, criterion=gini, bootstrap=True, score=0.553, total=11.3min\n",
      "[CV] n_jobs=-1, n_estimators=700, min_samples_split=5, min_samples_leaf=10, max_features=40, max_depth=20, criterion=gini, bootstrap=True \n"
     ]
    },
    {
     "name": "stderr",
     "output_type": "stream",
     "text": [
      "[Parallel(n_jobs=1)]: Done  14 out of  14 | elapsed: 120.5min remaining:    0.0s\n"
     ]
    },
    {
     "name": "stdout",
     "output_type": "stream",
     "text": [
      "[CV]  n_jobs=-1, n_estimators=700, min_samples_split=5, min_samples_leaf=10, max_features=40, max_depth=20, criterion=gini, bootstrap=True, score=0.555, total=12.3min\n",
      "[CV] n_jobs=-1, n_estimators=100, min_samples_split=9, min_samples_leaf=6, max_features=10, max_depth=10, criterion=gini, bootstrap=True \n"
     ]
    },
    {
     "name": "stderr",
     "output_type": "stream",
     "text": [
      "[Parallel(n_jobs=1)]: Done  15 out of  15 | elapsed: 132.8min remaining:    0.0s\n"
     ]
    },
    {
     "name": "stdout",
     "output_type": "stream",
     "text": [
      "[CV]  n_jobs=-1, n_estimators=100, min_samples_split=9, min_samples_leaf=6, max_features=10, max_depth=10, criterion=gini, bootstrap=True, score=0.551, total=  30.7s\n",
      "[CV] n_jobs=-1, n_estimators=100, min_samples_split=9, min_samples_leaf=6, max_features=10, max_depth=10, criterion=gini, bootstrap=True \n"
     ]
    },
    {
     "name": "stderr",
     "output_type": "stream",
     "text": [
      "[Parallel(n_jobs=1)]: Done  16 out of  16 | elapsed: 133.3min remaining:    0.0s\n"
     ]
    },
    {
     "name": "stdout",
     "output_type": "stream",
     "text": [
      "[CV]  n_jobs=-1, n_estimators=100, min_samples_split=9, min_samples_leaf=6, max_features=10, max_depth=10, criterion=gini, bootstrap=True, score=0.546, total=17.8min\n",
      "[CV] n_jobs=-1, n_estimators=100, min_samples_split=9, min_samples_leaf=6, max_features=10, max_depth=10, criterion=gini, bootstrap=True \n"
     ]
    },
    {
     "name": "stderr",
     "output_type": "stream",
     "text": [
      "[Parallel(n_jobs=1)]: Done  17 out of  17 | elapsed: 151.1min remaining:    0.0s\n"
     ]
    },
    {
     "name": "stdout",
     "output_type": "stream",
     "text": [
      "[CV]  n_jobs=-1, n_estimators=100, min_samples_split=9, min_samples_leaf=6, max_features=10, max_depth=10, criterion=gini, bootstrap=True, score=0.550, total=  26.6s\n",
      "[CV] n_jobs=-1, n_estimators=100, min_samples_split=9, min_samples_leaf=6, max_features=10, max_depth=10, criterion=gini, bootstrap=True \n"
     ]
    },
    {
     "name": "stderr",
     "output_type": "stream",
     "text": [
      "[Parallel(n_jobs=1)]: Done  18 out of  18 | elapsed: 151.6min remaining:    0.0s\n"
     ]
    },
    {
     "name": "stdout",
     "output_type": "stream",
     "text": [
      "[CV]  n_jobs=-1, n_estimators=100, min_samples_split=9, min_samples_leaf=6, max_features=10, max_depth=10, criterion=gini, bootstrap=True, score=0.546, total=  24.4s\n",
      "[CV] n_jobs=-1, n_estimators=100, min_samples_split=9, min_samples_leaf=6, max_features=10, max_depth=10, criterion=gini, bootstrap=True \n"
     ]
    },
    {
     "name": "stderr",
     "output_type": "stream",
     "text": [
      "[Parallel(n_jobs=1)]: Done  19 out of  19 | elapsed: 152.0min remaining:    0.0s\n"
     ]
    },
    {
     "name": "stdout",
     "output_type": "stream",
     "text": [
      "[CV]  n_jobs=-1, n_estimators=100, min_samples_split=9, min_samples_leaf=6, max_features=10, max_depth=10, criterion=gini, bootstrap=True, score=0.557, total=  25.1s\n",
      "[CV] n_jobs=-1, n_estimators=100, min_samples_split=9, min_samples_leaf=10, max_features=30, max_depth=20, criterion=gini, bootstrap=True \n",
      "[CV]  n_jobs=-1, n_estimators=100, min_samples_split=9, min_samples_leaf=10, max_features=30, max_depth=20, criterion=gini, bootstrap=True, score=0.548, total= 1.2min\n",
      "[CV] n_jobs=-1, n_estimators=100, min_samples_split=9, min_samples_leaf=10, max_features=30, max_depth=20, criterion=gini, bootstrap=True \n",
      "[CV]  n_jobs=-1, n_estimators=100, min_samples_split=9, min_samples_leaf=10, max_features=30, max_depth=20, criterion=gini, bootstrap=True, score=0.548, total= 1.2min\n",
      "[CV] n_jobs=-1, n_estimators=100, min_samples_split=9, min_samples_leaf=10, max_features=30, max_depth=20, criterion=gini, bootstrap=True \n",
      "[CV]  n_jobs=-1, n_estimators=100, min_samples_split=9, min_samples_leaf=10, max_features=30, max_depth=20, criterion=gini, bootstrap=True, score=0.552, total= 1.2min\n",
      "[CV] n_jobs=-1, n_estimators=100, min_samples_split=9, min_samples_leaf=10, max_features=30, max_depth=20, criterion=gini, bootstrap=True \n",
      "[CV]  n_jobs=-1, n_estimators=100, min_samples_split=9, min_samples_leaf=10, max_features=30, max_depth=20, criterion=gini, bootstrap=True, score=0.550, total= 1.2min\n",
      "[CV] n_jobs=-1, n_estimators=100, min_samples_split=9, min_samples_leaf=10, max_features=30, max_depth=20, criterion=gini, bootstrap=True \n",
      "[CV]  n_jobs=-1, n_estimators=100, min_samples_split=9, min_samples_leaf=10, max_features=30, max_depth=20, criterion=gini, bootstrap=True, score=0.556, total= 1.2min\n",
      "[CV] n_jobs=-1, n_estimators=100, min_samples_split=9, min_samples_leaf=8, max_features=30, max_depth=20, criterion=entropy, bootstrap=True \n",
      "[CV]  n_jobs=-1, n_estimators=100, min_samples_split=9, min_samples_leaf=8, max_features=30, max_depth=20, criterion=entropy, bootstrap=True, score=0.551, total= 1.2min\n",
      "[CV] n_jobs=-1, n_estimators=100, min_samples_split=9, min_samples_leaf=8, max_features=30, max_depth=20, criterion=entropy, bootstrap=True \n",
      "[CV]  n_jobs=-1, n_estimators=100, min_samples_split=9, min_samples_leaf=8, max_features=30, max_depth=20, criterion=entropy, bootstrap=True, score=0.550, total= 1.2min\n",
      "[CV] n_jobs=-1, n_estimators=100, min_samples_split=9, min_samples_leaf=8, max_features=30, max_depth=20, criterion=entropy, bootstrap=True \n",
      "[CV]  n_jobs=-1, n_estimators=100, min_samples_split=9, min_samples_leaf=8, max_features=30, max_depth=20, criterion=entropy, bootstrap=True, score=0.553, total= 1.2min\n",
      "[CV] n_jobs=-1, n_estimators=100, min_samples_split=9, min_samples_leaf=8, max_features=30, max_depth=20, criterion=entropy, bootstrap=True \n",
      "[CV]  n_jobs=-1, n_estimators=100, min_samples_split=9, min_samples_leaf=8, max_features=30, max_depth=20, criterion=entropy, bootstrap=True, score=0.552, total= 1.2min\n",
      "[CV] n_jobs=-1, n_estimators=100, min_samples_split=9, min_samples_leaf=8, max_features=30, max_depth=20, criterion=entropy, bootstrap=True \n",
      "[CV]  n_jobs=-1, n_estimators=100, min_samples_split=9, min_samples_leaf=8, max_features=30, max_depth=20, criterion=entropy, bootstrap=True, score=0.558, total= 1.2min\n",
      "[CV] n_jobs=-1, n_estimators=100, min_samples_split=7, min_samples_leaf=8, max_features=5, max_depth=5, criterion=entropy, bootstrap=True \n",
      "[CV]  n_jobs=-1, n_estimators=100, min_samples_split=7, min_samples_leaf=8, max_features=5, max_depth=5, criterion=entropy, bootstrap=True, score=0.539, total=  11.8s\n",
      "[CV] n_jobs=-1, n_estimators=100, min_samples_split=7, min_samples_leaf=8, max_features=5, max_depth=5, criterion=entropy, bootstrap=True \n",
      "[CV]  n_jobs=-1, n_estimators=100, min_samples_split=7, min_samples_leaf=8, max_features=5, max_depth=5, criterion=entropy, bootstrap=True, score=0.548, total=  11.9s\n",
      "[CV] n_jobs=-1, n_estimators=100, min_samples_split=7, min_samples_leaf=8, max_features=5, max_depth=5, criterion=entropy, bootstrap=True \n",
      "[CV]  n_jobs=-1, n_estimators=100, min_samples_split=7, min_samples_leaf=8, max_features=5, max_depth=5, criterion=entropy, bootstrap=True, score=0.543, total=  12.0s\n",
      "[CV] n_jobs=-1, n_estimators=100, min_samples_split=7, min_samples_leaf=8, max_features=5, max_depth=5, criterion=entropy, bootstrap=True \n",
      "[CV]  n_jobs=-1, n_estimators=100, min_samples_split=7, min_samples_leaf=8, max_features=5, max_depth=5, criterion=entropy, bootstrap=True, score=0.536, total=  12.8s\n",
      "[CV] n_jobs=-1, n_estimators=100, min_samples_split=7, min_samples_leaf=8, max_features=5, max_depth=5, criterion=entropy, bootstrap=True \n",
      "[CV]  n_jobs=-1, n_estimators=100, min_samples_split=7, min_samples_leaf=8, max_features=5, max_depth=5, criterion=entropy, bootstrap=True, score=0.538, total=  11.7s\n",
      "[CV] n_jobs=-1, n_estimators=700, min_samples_split=7, min_samples_leaf=6, max_features=30, max_depth=5, criterion=entropy, bootstrap=True \n",
      "[CV]  n_jobs=-1, n_estimators=700, min_samples_split=7, min_samples_leaf=6, max_features=30, max_depth=5, criterion=entropy, bootstrap=True, score=0.551, total= 3.4min\n",
      "[CV] n_jobs=-1, n_estimators=700, min_samples_split=7, min_samples_leaf=6, max_features=30, max_depth=5, criterion=entropy, bootstrap=True \n",
      "[CV]  n_jobs=-1, n_estimators=700, min_samples_split=7, min_samples_leaf=6, max_features=30, max_depth=5, criterion=entropy, bootstrap=True, score=0.554, total= 3.4min\n",
      "[CV] n_jobs=-1, n_estimators=700, min_samples_split=7, min_samples_leaf=6, max_features=30, max_depth=5, criterion=entropy, bootstrap=True \n",
      "[CV]  n_jobs=-1, n_estimators=700, min_samples_split=7, min_samples_leaf=6, max_features=30, max_depth=5, criterion=entropy, bootstrap=True, score=0.555, total= 3.4min\n",
      "[CV] n_jobs=-1, n_estimators=700, min_samples_split=7, min_samples_leaf=6, max_features=30, max_depth=5, criterion=entropy, bootstrap=True \n",
      "[CV]  n_jobs=-1, n_estimators=700, min_samples_split=7, min_samples_leaf=6, max_features=30, max_depth=5, criterion=entropy, bootstrap=True, score=0.558, total= 3.4min\n",
      "[CV] n_jobs=-1, n_estimators=700, min_samples_split=7, min_samples_leaf=6, max_features=30, max_depth=5, criterion=entropy, bootstrap=True \n",
      "[CV]  n_jobs=-1, n_estimators=700, min_samples_split=7, min_samples_leaf=6, max_features=30, max_depth=5, criterion=entropy, bootstrap=True, score=0.558, total= 3.4min\n",
      "[CV] n_jobs=-1, n_estimators=500, min_samples_split=5, min_samples_leaf=10, max_features=30, max_depth=5, criterion=entropy, bootstrap=True \n",
      "[CV]  n_jobs=-1, n_estimators=500, min_samples_split=5, min_samples_leaf=10, max_features=30, max_depth=5, criterion=entropy, bootstrap=True, score=0.552, total= 2.5min\n",
      "[CV] n_jobs=-1, n_estimators=500, min_samples_split=5, min_samples_leaf=10, max_features=30, max_depth=5, criterion=entropy, bootstrap=True \n",
      "[CV]  n_jobs=-1, n_estimators=500, min_samples_split=5, min_samples_leaf=10, max_features=30, max_depth=5, criterion=entropy, bootstrap=True, score=0.554, total= 2.5min\n",
      "[CV] n_jobs=-1, n_estimators=500, min_samples_split=5, min_samples_leaf=10, max_features=30, max_depth=5, criterion=entropy, bootstrap=True \n",
      "[CV]  n_jobs=-1, n_estimators=500, min_samples_split=5, min_samples_leaf=10, max_features=30, max_depth=5, criterion=entropy, bootstrap=True, score=0.556, total= 2.5min\n",
      "[CV] n_jobs=-1, n_estimators=500, min_samples_split=5, min_samples_leaf=10, max_features=30, max_depth=5, criterion=entropy, bootstrap=True \n",
      "[CV]  n_jobs=-1, n_estimators=500, min_samples_split=5, min_samples_leaf=10, max_features=30, max_depth=5, criterion=entropy, bootstrap=True, score=0.557, total= 2.5min\n",
      "[CV] n_jobs=-1, n_estimators=500, min_samples_split=5, min_samples_leaf=10, max_features=30, max_depth=5, criterion=entropy, bootstrap=True \n",
      "[CV]  n_jobs=-1, n_estimators=500, min_samples_split=5, min_samples_leaf=10, max_features=30, max_depth=5, criterion=entropy, bootstrap=True, score=0.559, total= 2.5min\n",
      "[CV] n_jobs=-1, n_estimators=200, min_samples_split=9, min_samples_leaf=6, max_features=20, max_depth=20, criterion=entropy, bootstrap=True \n",
      "[CV]  n_jobs=-1, n_estimators=200, min_samples_split=9, min_samples_leaf=6, max_features=20, max_depth=20, criterion=entropy, bootstrap=True, score=0.552, total= 1.8min\n",
      "[CV] n_jobs=-1, n_estimators=200, min_samples_split=9, min_samples_leaf=6, max_features=20, max_depth=20, criterion=entropy, bootstrap=True \n"
     ]
    },
    {
     "name": "stdout",
     "output_type": "stream",
     "text": [
      "[CV]  n_jobs=-1, n_estimators=200, min_samples_split=9, min_samples_leaf=6, max_features=20, max_depth=20, criterion=entropy, bootstrap=True, score=0.549, total= 1.8min\n",
      "[CV] n_jobs=-1, n_estimators=200, min_samples_split=9, min_samples_leaf=6, max_features=20, max_depth=20, criterion=entropy, bootstrap=True \n",
      "[CV]  n_jobs=-1, n_estimators=200, min_samples_split=9, min_samples_leaf=6, max_features=20, max_depth=20, criterion=entropy, bootstrap=True, score=0.553, total= 1.8min\n",
      "[CV] n_jobs=-1, n_estimators=200, min_samples_split=9, min_samples_leaf=6, max_features=20, max_depth=20, criterion=entropy, bootstrap=True \n",
      "[CV]  n_jobs=-1, n_estimators=200, min_samples_split=9, min_samples_leaf=6, max_features=20, max_depth=20, criterion=entropy, bootstrap=True, score=0.555, total= 1.8min\n",
      "[CV] n_jobs=-1, n_estimators=200, min_samples_split=9, min_samples_leaf=6, max_features=20, max_depth=20, criterion=entropy, bootstrap=True \n",
      "[CV]  n_jobs=-1, n_estimators=200, min_samples_split=9, min_samples_leaf=6, max_features=20, max_depth=20, criterion=entropy, bootstrap=True, score=0.559, total= 1.8min\n"
     ]
    },
    {
     "name": "stderr",
     "output_type": "stream",
     "text": [
      "[Parallel(n_jobs=1)]: Done  50 out of  50 | elapsed: 204.1min finished\n"
     ]
    },
    {
     "data": {
      "text/plain": [
       "RandomizedSearchCV(cv=None, error_score=nan,\n",
       "                   estimator=RandomForestClassifier(bootstrap=True,\n",
       "                                                    ccp_alpha=0.0,\n",
       "                                                    class_weight='balanced',\n",
       "                                                    criterion='gini',\n",
       "                                                    max_depth=None,\n",
       "                                                    max_features='auto',\n",
       "                                                    max_leaf_nodes=None,\n",
       "                                                    max_samples=None,\n",
       "                                                    min_impurity_decrease=0.0,\n",
       "                                                    min_impurity_split=None,\n",
       "                                                    min_samples_leaf=1,\n",
       "                                                    min_samples_split=2,\n",
       "                                                    min_weight_fraction_leaf=0.0,\n",
       "                                                    n_estimators=1...\n",
       "                   iid='deprecated', n_iter=10, n_jobs=None,\n",
       "                   param_distributions={'bootstrap': [True],\n",
       "                                        'criterion': ['gini', 'entropy'],\n",
       "                                        'max_depth': [5, 10, 20],\n",
       "                                        'max_features': [5, 10, 20, 30, 40],\n",
       "                                        'min_samples_leaf': [6, 8, 10],\n",
       "                                        'min_samples_split': [5, 7, 9],\n",
       "                                        'n_estimators': [100, 200, 500, 700],\n",
       "                                        'n_jobs': [-1]},\n",
       "                   pre_dispatch='2*n_jobs', random_state=None, refit=True,\n",
       "                   return_train_score=False, scoring=None, verbose=20)"
      ]
     },
     "execution_count": 30,
     "metadata": {},
     "output_type": "execute_result"
    }
   ],
   "source": [
    "random_search.fit(x_train1, y_train1)"
   ]
  },
  {
   "cell_type": "code",
   "execution_count": 31,
   "metadata": {},
   "outputs": [
    {
     "data": {
      "text/plain": [
       "RandomForestClassifier(bootstrap=True, ccp_alpha=0.0, class_weight='balanced',\n",
       "                       criterion='entropy', max_depth=5, max_features=30,\n",
       "                       max_leaf_nodes=None, max_samples=None,\n",
       "                       min_impurity_decrease=0.0, min_impurity_split=None,\n",
       "                       min_samples_leaf=10, min_samples_split=5,\n",
       "                       min_weight_fraction_leaf=0.0, n_estimators=500,\n",
       "                       n_jobs=-1, oob_score=False, random_state=None, verbose=0,\n",
       "                       warm_start=False)"
      ]
     },
     "execution_count": 31,
     "metadata": {},
     "output_type": "execute_result"
    }
   ],
   "source": [
    "rf=random_search.best_estimator_\n",
    "rf"
   ]
  },
  {
   "cell_type": "code",
   "execution_count": 32,
   "metadata": {},
   "outputs": [
    {
     "data": {
      "text/plain": [
       "RandomForestClassifier(bootstrap=True, ccp_alpha=0.0, class_weight='balanced',\n",
       "                       criterion='entropy', max_depth=5, max_features=30,\n",
       "                       max_leaf_nodes=None, max_samples=None,\n",
       "                       min_impurity_decrease=0.0, min_impurity_split=None,\n",
       "                       min_samples_leaf=10, min_samples_split=5,\n",
       "                       min_weight_fraction_leaf=0.0, n_estimators=500,\n",
       "                       n_jobs=-1, oob_score=False, random_state=None, verbose=0,\n",
       "                       warm_start=False)"
      ]
     },
     "execution_count": 32,
     "metadata": {},
     "output_type": "execute_result"
    }
   ],
   "source": [
    "rf.fit(x_train1,y_train1)"
   ]
  },
  {
   "cell_type": "code",
   "execution_count": 33,
   "metadata": {},
   "outputs": [
    {
     "data": {
      "text/plain": [
       "array(['No', 'Yes'], dtype=object)"
      ]
     },
     "execution_count": 33,
     "metadata": {},
     "output_type": "execute_result"
    }
   ],
   "source": [
    "rf.classes_"
   ]
  },
  {
   "cell_type": "code",
   "execution_count": 34,
   "metadata": {},
   "outputs": [
    {
     "data": {
      "text/plain": [
       "array([0.57371114, 0.42906499, 0.53383075, ..., 0.49012505, 0.38866634,\n",
       "       0.48867183])"
      ]
     },
     "execution_count": 34,
     "metadata": {},
     "output_type": "execute_result"
    }
   ],
   "source": [
    "train1_score=rf.predict_proba(x_train1)[:,1]\n",
    "train1_score"
   ]
  },
  {
   "cell_type": "code",
   "execution_count": 35,
   "metadata": {},
   "outputs": [
    {
     "data": {
      "text/plain": [
       "array([0.34066152, 0.39354364, 0.56713979, ..., 0.58178323, 0.48797836,\n",
       "       0.57602425])"
      ]
     },
     "execution_count": 35,
     "metadata": {},
     "output_type": "execute_result"
    }
   ],
   "source": [
    "train2_score=rf.predict_proba(x_train2)[:,1]\n",
    "train2_score"
   ]
  },
  {
   "cell_type": "code",
   "execution_count": 36,
   "metadata": {},
   "outputs": [
    {
     "data": {
      "text/plain": [
       "49.40350528824046"
      ]
     },
     "execution_count": 36,
     "metadata": {},
     "output_type": "execute_result"
    }
   ],
   "source": [
    "train1_classes=(train1_score>0.5).astype(int)\n",
    "y_train1_classes=np.where(y_train1==\"Yes\",1,0)\n",
    "train1_score[train1_score>0.5].size*100/train1_score.size #percent of Yes in train 1"
   ]
  },
  {
   "cell_type": "code",
   "execution_count": 37,
   "metadata": {},
   "outputs": [
    {
     "data": {
      "text/plain": [
       "49.15085959136751"
      ]
     },
     "execution_count": 37,
     "metadata": {},
     "output_type": "execute_result"
    }
   ],
   "source": [
    "train2_classes=(train2_score>0.5).astype(int)\n",
    "y_train2_classes=np.where(y_train2==\"Yes\",1,0)\n",
    "train2_score[train2_score>0.5].size*100/train2_score.size #percent of Yes in train 2"
   ]
  },
  {
   "cell_type": "code",
   "execution_count": 40,
   "metadata": {},
   "outputs": [
    {
     "data": {
      "text/plain": [
       "0.5776580089896366"
      ]
     },
     "execution_count": 40,
     "metadata": {},
     "output_type": "execute_result"
    }
   ],
   "source": [
    "roc_auc_score(y_train1, train1_classes) #auc score of train 1"
   ]
  },
  {
   "cell_type": "code",
   "execution_count": 41,
   "metadata": {},
   "outputs": [
    {
     "data": {
      "text/plain": [
       "0.5784939964383135"
      ]
     },
     "execution_count": 41,
     "metadata": {},
     "output_type": "execute_result"
    }
   ],
   "source": [
    "roc_auc_score(y_train2, train2_classes) #auc score of train 2"
   ]
  },
  {
   "cell_type": "code",
   "execution_count": 43,
   "metadata": {},
   "outputs": [],
   "source": [
    "test_score=rf.predict_proba(cc_test)[:,1]"
   ]
  },
  {
   "cell_type": "code",
   "execution_count": 44,
   "metadata": {},
   "outputs": [],
   "source": [
    "test_score\n",
    "test_classes=np.where(test_score>0.5,\"Yes\",\"No\")"
   ]
  },
  {
   "cell_type": "code",
   "execution_count": 45,
   "metadata": {},
   "outputs": [
    {
     "data": {
      "text/plain": [
       "60674"
      ]
     },
     "execution_count": 45,
     "metadata": {},
     "output_type": "execute_result"
    }
   ],
   "source": [
    "test_classes[test_classes==\"No\"].size"
   ]
  },
  {
   "cell_type": "code",
   "execution_count": 46,
   "metadata": {},
   "outputs": [
    {
     "data": {
      "text/plain": [
       "No     301424\n",
       "Yes     81312\n",
       "Name: Consumer disputed?, dtype: int64"
      ]
     },
     "execution_count": 46,
     "metadata": {},
     "output_type": "execute_result"
    }
   ],
   "source": [
    "train1['Consumer disputed?'].value_counts()"
   ]
  },
  {
   "cell_type": "code",
   "execution_count": null,
   "metadata": {},
   "outputs": [],
   "source": [
    "# params={'n_estimators':[100,200,500,700],\n",
    "#        'criterion':['gini','entropy'],\n",
    "#        'min_samples_split':[5,7,9],\n",
    "#        'bootstrap':[True],\n",
    "#         'n_jobs':[-1],\n",
    "#        'max_depth':[5,10,20],\n",
    "#        'max_features':[5,10,20,30,40], \n",
    "#        'min_samples_leaf':[6,8,10]}\n",
    "\n",
    "## TIME THIS MAX 5 HRS  & ALSO DEPEND YOUR SYSTEM\n",
    "\n",
    "\n",
    "#________________________________________________________________\n",
    "\n",
    "\n",
    "\n",
    "#param_dist = {\"n_estimators\":[100,200,300,500,700,1000],\n",
    "#\"max_features\": [5,10,20,25,30,35],\n",
    "#\"bootstrap\": [True, False],\n",
    "#\"class_weight\":[None,'balanced'],\n",
    "#\"criterion\":['entropy','gini'],\n",
    "#\"max_depth\":[None,5,10,15,20,30,50,70],\n",
    "#\"min_samples_leaf\":[1,2,5,10,15,20],\n",
    "#\"min_samples_split\":[2,5,10,15,20]}\n",
    "\n",
    "\n",
    "## APPALY THIS PARA AUC WILL INCREASE 0.60 OR MORE BUT TAKE MORE TIME MAX 12 HRS\n"
   ]
  },
  {
   "cell_type": "code",
   "execution_count": null,
   "metadata": {},
   "outputs": [],
   "source": []
  },
  {
   "cell_type": "code",
   "execution_count": null,
   "metadata": {},
   "outputs": [],
   "source": []
  }
 ],
 "metadata": {
  "kernelspec": {
   "display_name": "Python 3",
   "language": "python",
   "name": "python3"
  },
  "language_info": {
   "codemirror_mode": {
    "name": "ipython",
    "version": 3
   },
   "file_extension": ".py",
   "mimetype": "text/x-python",
   "name": "python",
   "nbconvert_exporter": "python",
   "pygments_lexer": "ipython3",
   "version": "3.7.4"
  }
 },
 "nbformat": 4,
 "nbformat_minor": 2
}
